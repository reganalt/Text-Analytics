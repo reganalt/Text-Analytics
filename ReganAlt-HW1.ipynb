{
 "cells": [
  {
   "cell_type": "markdown",
   "metadata": {},
   "source": [
    "## Q1. Program that calculates the energy needed to heat water from an initial to final temperature"
   ]
  },
  {
   "cell_type": "code",
   "execution_count": 8,
   "metadata": {},
   "outputs": [
    {
     "name": "stdout",
     "output_type": "stream",
     "text": [
      " Insert weight of water being heated (in kg): 3.2\n",
      "Enter the initial temperature (C): 13.5\n",
      "Enter the final temperature (C): 34\n",
      "The energy needed is 274470.4\n"
     ]
    }
   ],
   "source": [
    "weight = float(input(\" Insert weight of water being heated (in kg): \"))\n",
    "initialTemperature = float(input(\"Enter the initial temperature (C): \"))\n",
    "finalTemperature = float(input(\"Enter the final temperature (C): \"))\n",
    "\n",
    "energy = weight*(finalTemperature - initialTemperature)*4184\n",
    "print(\"The energy needed is\", energy)"
   ]
  },
  {
   "cell_type": "markdown",
   "metadata": {},
   "source": [
    "## Q2. Program that takes height, and weight as inputs, and calculates a person's BMI"
   ]
  },
  {
   "cell_type": "code",
   "execution_count": 16,
   "metadata": {},
   "outputs": [
    {
     "name": "stdout",
     "output_type": "stream",
     "text": [
      "Input your height in inches: 65\n",
      "Input your weight in pounds: 142\n",
      "Height: 65.0 Weight: 142.0 Your body mass index is:  23.627455621301774\n"
     ]
    }
   ],
   "source": [
    "height = float(input(\"Input your height in inches: \"))\n",
    "weight = float(input(\"Input your weight in pounds: \"))\n",
    "\n",
    "BMI = 703 * weight/(height*height)\n",
    "\n",
    "print(\"Height:\", height, \"Weight:\", weight, \"Your body mass index is: \", BMI)"
   ]
  },
  {
   "cell_type": "code",
   "execution_count": 23,
   "metadata": {},
   "outputs": [
    {
     "name": "stdout",
     "output_type": "stream",
     "text": [
      "Input your height in inches: 66.75\n",
      "Input your weight in pounds: 173\n",
      "Height: 66.75 Weight: 173.0 Your body mass index is:  27\n",
      "AMA recommends that BMI be no more than 25\n"
     ]
    }
   ],
   "source": [
    "height = float(input(\"Input your height in inches: \"))\n",
    "weight = float(input(\"Input your weight in pounds: \"))\n",
    "\n",
    "BMI = round(703 * weight/(height*height))\n",
    "\n",
    "print(\"Height:\", height, \"Weight:\", weight, \"Your body mass index is: \",BMI)\n",
    "\n",
    "if BMI <= 25:\n",
    "    print(\"Congratulations\")\n",
    "else:\n",
    "    BMI > 25\n",
    "    print(\"AMA recommends that BMI be no more than 25\")"
   ]
  },
  {
   "cell_type": "markdown",
   "metadata": {},
   "source": [
    "## Q3. Program that asks the user to input clothing price, and displays total cost "
   ]
  },
  {
   "cell_type": "code",
   "execution_count": 61,
   "metadata": {},
   "outputs": [
    {
     "name": "stdout",
     "output_type": "stream",
     "text": [
      "Input your clothing item price: 46.50\n",
      "Total clothing price: $  50.5\n"
     ]
    }
   ],
   "source": [
    "price = float(input(\"Input your clothing item price: \"))\n",
    "\n",
    "if price < 15.00:\n",
    "    sales_tax = 1.7/100\n",
    "else:\n",
    "    sales_tax = 7.65/100\n",
    "\n",
    "#would't total price of item add sales tax (%) to original price \n",
    "total_price = round(price * (sales_tax)) + price\n",
    "\n",
    "print(\"Total clothing price: $ \", total_price)"
   ]
  },
  {
   "cell_type": "markdown",
   "metadata": {},
   "source": [
    "## Q4. Program to calculate the income tax for any taxable income"
   ]
  },
  {
   "cell_type": "code",
   "execution_count": 80,
   "metadata": {},
   "outputs": [
    {
     "name": "stdout",
     "output_type": "stream",
     "text": [
      "Input your taxable income: $ 345550\n",
      "71091.0\n"
     ]
    }
   ],
   "source": [
    "income = float(input(\"Input your taxable income: $ \"))\n",
    " \n",
    "if income <= 19750:\n",
    "    min_tax = 0.0\n",
    "    excess_income = income\n",
    "    excess_tax = excess_income * 0.10\n",
    "\n",
    "elif income <= 80250:\n",
    "    min_tax = 1975\n",
    "    excess_income = income - 19750\n",
    "    excess_tax = excess_income * 0.12\n",
    "\n",
    "elif income <= 171050:\n",
    "    min_tax = 9235\n",
    "    excess_income = income - 80250\n",
    "    excess_tax = excess_income * 0.22\n",
    "\n",
    "else:\n",
    "    min_tax = 29211\n",
    "    excess_income = income - 171050\n",
    "    excess_tax = excess_income * 0.24\n",
    "\n",
    "print (min_tax + excess_tax)"
   ]
  },
  {
   "cell_type": "code",
   "execution_count": null,
   "metadata": {},
   "outputs": [],
   "source": []
  }
 ],
 "metadata": {
  "kernelspec": {
   "display_name": "Python 3",
   "language": "python",
   "name": "python3"
  },
  "language_info": {
   "codemirror_mode": {
    "name": "ipython",
    "version": 3
   },
   "file_extension": ".py",
   "mimetype": "text/x-python",
   "name": "python",
   "nbconvert_exporter": "python",
   "pygments_lexer": "ipython3",
   "version": "3.8.3"
  }
 },
 "nbformat": 4,
 "nbformat_minor": 4
}
