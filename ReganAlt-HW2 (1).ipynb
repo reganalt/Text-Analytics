{
 "cells": [
  {
   "cell_type": "markdown",
   "metadata": {},
   "source": [
    "# Q1. Entering score and identifying recurrence in list"
   ]
  },
  {
   "cell_type": "code",
   "execution_count": 17,
   "metadata": {},
   "outputs": [
    {
     "name": "stdout",
     "output_type": "stream",
     "text": [
      "Please enter a positive integer: 84\n",
      "List of score in list: 5\n"
     ]
    }
   ],
   "source": [
    "scores = [79,84,92,75,84,100, 83, 91, 88,84, 69, 98,84, 91,84]\n",
    "\n",
    "number = int(input(\"Please enter a positive integer: \"))\n",
    "\n",
    "total = 0\n",
    "count = 0\n",
    "for score in scores: #counting recurrence of score entered from list scores\n",
    "    if number > 0:\n",
    "        total += score\n",
    "        count += 1\n",
    "        score_count = scores.count(number)\n",
    "    else: #if score integer entered is negative or zero print error message \n",
    "        print(\"Error\")\n",
    "print(\"List of score in list:\", score_count)"
   ]
  },
  {
   "cell_type": "markdown",
   "metadata": {},
   "source": [
    "# Q2. Company's expected revenue and EPS for 2019-2026"
   ]
  },
  {
   "cell_type": "code",
   "execution_count": 33,
   "metadata": {},
   "outputs": [
    {
     "name": "stdout",
     "output_type": "stream",
     "text": [
      "Year \t\t Revenue \t EPS\n",
      "2019\t\t2750400\t\t0.68\n",
      "2020\t\t3011688\t\t0.76\n",
      "2021\t\t3297798\t\t0.85\n",
      "2022\t\t3611088\t\t0.96\n",
      "2023\t\t3954141\t\t1.07\n",
      "2024\t\t4329784\t\t1.20\n",
      "2025\t\t4741113\t\t1.34\n",
      "2026\t\t5191518\t\t1.50\n"
     ]
    }
   ],
   "source": [
    "current_year = 2019\n",
    "current_revenue = 2750400\n",
    "current_EPS = 0.68\n",
    "\n",
    "print(\"Year\", \"\\t\\t\", \"Revenue\", \"\\t\", \"EPS\") #to print headers for table\n",
    "for i in range(8): # range 8 to find next 7 years of revenue/eps \n",
    "    print(str(current_year) + \"\\t\\t\" + str(current_revenue) + \"\\t\\t{:.2f}\".format(current_EPS)) #for program to loop using previous data\n",
    "    \n",
    "    current_year = current_year + 1\n",
    "    current_revenue = int(current_revenue + (current_revenue * 0.095))\n",
    "    current_EPS = current_EPS + (current_EPS * 0.12)"
   ]
  },
  {
   "cell_type": "markdown",
   "metadata": {},
   "source": [
    "# Q 3. Detecting end of input using sentinel "
   ]
  },
  {
   "cell_type": "code",
   "execution_count": 34,
   "metadata": {},
   "outputs": [
    {
     "name": "stdout",
     "output_type": "stream",
     "text": [
      "Enter the number or Enter 9999 to quit: 12\n",
      "Enter the number or Enter 9999 to quit: -7\n",
      "Enter the number or Enter 9999 to quit: 0\n",
      "Enter the number or Enter 9999 to quit: -12\n",
      "Enter the number or Enter 9999 to quit: 27\n",
      "Enter the number or Enter 9999 to quit: 19\n",
      "Enter the number or Enter 9999 to quit: 10\n",
      "Enter the number or Enter 9999 to quit: -15\n",
      "Enter the number or Enter 9999 to quit: 29\n",
      "Enter the number or Enter 9999 to quit: 9999\n",
      "the number of inputs processed : 9\n",
      "the sum of positive inputs :97\n",
      "the sum of negative inputs : -34\n",
      "the Number of inputs that are zero : 1\n"
     ]
    }
   ],
   "source": [
    "SENTINEL = 9999\n",
    "\n",
    "no_of_zeros = 0\n",
    "sum_of_positives = 0\n",
    "sum_of_negatives = 0\n",
    "no_of_inputs = 0\n",
    "\n",
    "num=int(input(\"Enter the number or Enter 9999 to quit: \"))\n",
    "\n",
    "while(num != SENTINEL):\n",
    "    \n",
    "   if(num<0): #for sum of negative inputs\n",
    "       sum_of_negatives = sum_of_negatives + num\n",
    "       no_of_inputs = no_of_inputs + 1\n",
    "\n",
    "   elif(num>0): #for sum of positive inputs\n",
    "       sum_of_positives = sum_of_positives + num\n",
    "       no_of_inputs = no_of_inputs + 1\n",
    "\n",
    "   else: #for count of zero inputs \n",
    "       no_of_zeros = no_of_zeros + 1\n",
    "       no_of_inputs = no_of_inputs + 1\n",
    "\n",
    "   num=int(input(\"Enter the number or Enter 9999 to quit: \"))\n",
    "\n",
    "\n",
    "print(\"the number of inputs processed : \" + str(no_of_inputs))\n",
    "print(\"the sum of positive inputs :\" + str(sum_of_positives))\n",
    "print(\"the sum of negative inputs : \" + str(sum_of_negatives))\n",
    "print(\"the Number of inputs that are zero : \" + str(no_of_zeros))\n"
   ]
  },
  {
   "cell_type": "markdown",
   "metadata": {},
   "source": [
    "# Q4 Total amount due from Mrs. Warren for clothing"
   ]
  },
  {
   "cell_type": "code",
   "execution_count": 35,
   "metadata": {},
   "outputs": [
    {
     "name": "stdout",
     "output_type": "stream",
     "text": [
      "Total price with tax is:$  218.15\n"
     ]
    }
   ],
   "source": [
    "price = [76.50, 14.75, 39.00, 22.50, 12.95, 8.99, 29.99] #list of prices Mrs. Warren bought\n",
    "\n",
    "total_price = 0\n",
    "\n",
    "for p in price:\n",
    " if p < 15: #tax for prices less than $15.00\n",
    "  price_with_tax = p + (1.7*p)/100\n",
    "  total_price += price_with_tax\n",
    "\n",
    "#tax for prices greater than $15.00\n",
    " else:\n",
    "  price_with_tax = p + (7.65*p)/100\n",
    "  total_price += price_with_tax\n",
    "\n",
    "print(\"Total price with tax is:$ \", \"%.2f\" % total_price)"
   ]
  },
  {
   "cell_type": "markdown",
   "metadata": {},
   "source": [
    "# Q 5. Calculating Taxable Income"
   ]
  },
  {
   "cell_type": "code",
   "execution_count": 38,
   "metadata": {},
   "outputs": [
    {
     "name": "stdout",
     "output_type": "stream",
     "text": [
      "Your Taxable Income is: $ 27500.0\n",
      "Your income tax is: $ 2905.0\n",
      "Your Taxable Income is: $ 75650.0\n",
      "Your income tax is: $ 8683.0\n",
      "Your Taxable Income is: $ 317500.0\n",
      "Your income tax is: $ 64359.0\n",
      "Your Taxable Income is: $ 137325.0\n",
      "Your income tax is: $ 21791.5\n",
      "Your Taxable Income is: $ 268600.0\n",
      "Your income tax is: $ 52623.0\n",
      "Your Taxable Income is: $ 84625.0\n",
      "Your income tax is: $ 10197.5\n",
      "Your Taxable Income is: $ 37655.0\n",
      "Your income tax is: $ 4123.6\n"
     ]
    }
   ],
   "source": [
    "def calculate_taxable_income(list_tax): \n",
    "  for i in list_tax:\n",
    "    taxable_income = i #tax brackets from previous HW\n",
    "    incomel = 19750.00 \n",
    "    income2 = 80250.00 \n",
    "    income3 = 171050.00 \n",
    "    income4 = 326600.00\n",
    "    income5 = 414700.00  \n",
    "    income6 = 622050.00\n",
    "    if taxable_income <= incomel: \n",
    "      tax_rate = 0.10 \n",
    "      min_tax = 0\n",
    "      income_tax = min_tax + ((taxable_income-0) * tax_rate)\n",
    "    elif taxable_income <= income2:\n",
    "      tax_rate = 0.12 \n",
    "      min_tax = 1975.00 \n",
    "      income_tax = min_tax + ((taxable_income-incomel) * tax_rate) \n",
    "    elif taxable_income <= income3: \n",
    "      tax_rate = 0.22 \n",
    "      min_tax = 9235.00 \n",
    "      income_tax = min_tax + ((taxable_income-income2) * tax_rate) \n",
    "    elif taxable_income <= income4: \n",
    "      tax_rate = 0.24 \n",
    "      min_tax = 29211.00\n",
    "      income_tax = min_tax + ((taxable_income-income3) * tax_rate) \n",
    "    elif taxable_income <= income5:\n",
    "      tax_rate = 0.32 \n",
    "      min_tax = 66543.00\n",
    "      income_tax = min_tax + ((taxable_income-income4) * tax_rate) \n",
    "    elif taxable_income <= income6: \n",
    "      tax_rate = 0.35 \n",
    "      min_tax = 94375.00 \n",
    "      income_tax = min_tax + ((taxable_income-incomes) * tax_rate) \n",
    "    else: \n",
    "      tax_rate = .37 \n",
    "      lower_tax = 167307.50 \n",
    "        \n",
    "    print(\"Your Taxable Income is: $\", round(taxable_income, 2)) \n",
    "    print(\"Your income tax is: $\", round(income_tax, 2))\n",
    "taxable_income_list =[27500.00, 75650.00, 317500.00, 137325.00, 268600.00, 84625.00, 37655.00 ] #given incomes to test for this HW \n",
    "(calculate_taxable_income(taxable_income_list)) "
   ]
  },
  {
   "cell_type": "code",
   "execution_count": null,
   "metadata": {},
   "outputs": [],
   "source": []
  }
 ],
 "metadata": {
  "kernelspec": {
   "display_name": "Python 3",
   "language": "python",
   "name": "python3"
  },
  "language_info": {
   "codemirror_mode": {
    "name": "ipython",
    "version": 3
   },
   "file_extension": ".py",
   "mimetype": "text/x-python",
   "name": "python",
   "nbconvert_exporter": "python",
   "pygments_lexer": "ipython3",
   "version": "3.8.3"
  }
 },
 "nbformat": 4,
 "nbformat_minor": 4
}
